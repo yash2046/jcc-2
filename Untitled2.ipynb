{
  "nbformat": 4,
  "nbformat_minor": 0,
  "metadata": {
    "colab": {
      "name": "Untitled2.ipynb",
      "provenance": []
    },
    "kernelspec": {
      "name": "python3",
      "display_name": "Python 3"
    },
    "language_info": {
      "name": "python"
    }
  },
  "cells": [
    {
      "cell_type": "code",
      "metadata": {
        "id": "LsETuaFdN2r8"
      },
      "source": [
        ""
      ],
      "execution_count": 5,
      "outputs": []
    },
    {
      "cell_type": "code",
      "metadata": {
        "id": "5hXLtBiFN8Vc"
      },
      "source": [
        "import numpy as np\n",
        "from matplotlib import pyplot as plt"
      ],
      "execution_count": 2,
      "outputs": []
    },
    {
      "cell_type": "code",
      "metadata": {
        "id": "Omb9fAS5OHAF"
      },
      "source": [
        "b0 = np.array([1235, 1500, 1850, 2000])\n",
        "b1 = np.array([1900, 1950, 2000, 2100])\n",
        "x = np.array([3.2, 3.2, 3.7, 3.9, 4, 4, 4.1, 4.5, 4.9, 5.1, 5.3, 5.9, 6])\n",
        "y = np.array([54445, 64445, 57189, 63218, 55794, 56957, 57081, 61111, 67938, 66029, 83088, 81363, 93940]) \n",
        "size = x.size"
      ],
      "execution_count": 3,
      "outputs": []
    },
    {
      "cell_type": "code",
      "metadata": {
        "colab": {
          "base_uri": "https://localhost:8080/",
          "height": 295
        },
        "id": "3uSVEcQBO45y",
        "outputId": "5904aec9-ff86-4e1d-a413-fae59e3c5876"
      },
      "source": [
        "plt.plot(x,y)\n",
        "plt.title(\"Independent Values vs Dependent\")\n",
        "plt.xlabel(' X1 ')\n",
        "plt.ylabel(' Y ')\n",
        "plt.show()"
      ],
      "execution_count": 4,
      "outputs": [
        {
          "output_type": "display_data",
          "data": {
            "image/png": "[encoded data removed]",
            "text/plain": [
              "<Figure size 432x288 with 1 Axes>"
            ]
          },
          "metadata": {
            "needs_background": "light"
          }
        }
      ]
    },
    {
      "cell_type": "code",
      "metadata": {
        "colab": {
          "base_uri": "https://localhost:8080/"
        },
        "id": "M5D_lQeAPCBS",
        "outputId": "74fde3b0-8090-4cad-f3d3-d41e09591293"
      },
      "source": [
        "for i in range(4): \n",
        "  Y_temp = []\n",
        "  for j in range(size):\n",
        "    temp = (b0[i] + (b1[i]*x[j])) \n",
        "    Y_temp.append((y[j] - temp)**2 ) \n",
        "  print(f\"Mean Square Error for Beta values {b0[i]} and {b1[i]} is =  {np.mean(Y_temp)}\")"
      ],
      "execution_count": 5,
      "outputs": [
        {
          "output_type": "stream",
          "name": "stdout",
          "text": [
            "Mean Square Error for Beta values 1235 and 1900 is =  3320373537.3076925\n",
            "Mean Square Error for Beta values 1500 and 1950 is =  3264631537.6923075\n",
            "Mean Square Error for Beta values 1850 and 2000 is =  3199907304.6153846\n",
            "Mean Square Error for Beta values 2000 and 2100 is =  3132651969.230769\n"
          ]
        }
      ]
    },
    {
      "cell_type": "code",
      "metadata": {
        "id": "dciyB5rDPIwE"
      },
      "source": [
        ""
      ],
      "execution_count": null,
      "outputs": []
    }
  ]
}